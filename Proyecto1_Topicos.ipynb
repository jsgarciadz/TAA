{
  "nbformat": 4,
  "nbformat_minor": 0,
  "metadata": {
    "colab": {
      "provenance": [],
      "collapsed_sections": []
    },
    "kernelspec": {
      "name": "python3",
      "display_name": "Python 3"
    },
    "language_info": {
      "name": "python"
    }
  },
  "cells": [
    {
      "cell_type": "markdown",
      "source": [
        "#Proyecto de clasificación de un dataset TAA\n",
        "## Juan Sebastian Garcia \n",
        "## Universidad Distrital Francisco Jose de Caldas\n",
        "\n",
        "El siguiente proyecto se basa en el aprendizaje supervisado, para la clasificación de un conjunto de datos que sera dividido para entrenamiento y prueba.\n",
        "\n",
        "Inicial mente cargamos el dataset disponible en https://archive.ics.uci.edu/ml/machine-learning-databases/arrhythmia/arrhythmia.data ; Esta base de datos contiene 279 atributos, distribuidos en valores lineales y valores nominales.\n",
        "\n",
        "El objetivo de la toma de muestras es distinguir entre la presencia y ausencia de arritmia cardíaca y clasificarla en uno de los 16 grupos. La clase 01 se refiere a ECG 'normal'. Las clases 02 a 15 se refieren a diferentes clases. de arritmia y la clase 16 se refiere al resto de las no clasificadas"
      ],
      "metadata": {
        "id": "hAXVk7kvw3ij"
      }
    },
    {
      "cell_type": "code",
      "execution_count": 4,
      "metadata": {
        "id": "Rj7Qzqp4v3H-"
      },
      "outputs": [],
      "source": [
        "#Cargamos los datos de una carpeta local\n",
        "f_in = open(\"arrhythmia.data\",'r')\n",
        "arrhythmia = f_in.readlines()\n",
        "f_in.close()"
      ]
    },
    {
      "cell_type": "markdown",
      "source": [
        "#Seleccion inicial de columnas\n",
        "Observando la descripción disponible en: https://archive.ics.uci.edu/ml/datasets/arrhythmia , se elige algunas caracteristicas lineales que posiblemente esten relacionadas con el diagnostico de arritmia cardíaca (esta selección se basa en suposiciones sin fundamento, el entendimiento de los de las señales cardiacas y esta fuera del alcance de este proyecto)."
      ],
      "metadata": {
        "id": "0PG_c7_fxZ07"
      }
    },
    {
      "cell_type": "code",
      "source": [
        "import pandas as pd\n",
        "import numpy as np\n",
        "\n",
        "alturas_cm=[]\n",
        "pesos_kg=[]\n",
        "Frecuencia_cardiaca=[] #Número de latidos cardíacos por minuto\n",
        "Num_de_deflex=[]\n",
        "T = [] #Duración media de la onda T en mseg\n",
        "P = [] #Duración media de la onda P en mseg\n",
        "Onda_Q=[] #Ancho promedio, en mseg onda Q\n",
        "Onda_R=[] #Ancho promedio, en mseg onda R\n",
        "Onda_S=[] #Ancho promedio, en mseg onda S\n",
        "P_R = [] #duración promedio entre el inicio de las ondas P y R en mseg\n",
        "Q_T = [] #duración promedio entre el inicio de Q y el final de las ondas T en mseg\n",
        "grupos=[]\n",
        "for renglon in arrhythmia:\n",
        "  datos_ren_str = renglon.split(',')\n",
        "  try:\n",
        "      altura_cm = int(datos_ren_str[2])\n",
        "      if altura_cm > 200:\n",
        "        continue\n",
        "      peso_kg = int(datos_ren_str[3])\n",
        "      p_r = int(datos_ren_str[5])\n",
        "      q_t = int(datos_ren_str[6])\n",
        "      t = int(datos_ren_str[7])\n",
        "      p = int(datos_ren_str[8])\n",
        "      frecuencia_cardiaca = int(datos_ren_str[14])\n",
        "      Onda_q = int(datos_ren_str[15])\n",
        "      Onda_r = int(datos_ren_str[16])\n",
        "      Onda_s = int(datos_ren_str[17])\n",
        "      num_de_deflex = int(datos_ren_str[20]) \n",
        "      grupo = int(datos_ren_str[-1])\n",
        "  except:\n",
        "     continue\n",
        "  alturas_cm.append(altura_cm)\n",
        "  pesos_kg.append(peso_kg)\n",
        "  Frecuencia_cardiaca.append(frecuencia_cardiaca)\n",
        "  Num_de_deflex.append(num_de_deflex)\n",
        "  T.append(t)\n",
        "  P.append(p)\n",
        "  Onda_Q.append(Onda_q)\n",
        "  Onda_R.append(Onda_r)\n",
        "  Onda_S.append(Onda_s)\n",
        "  P_R.append(p_r)\n",
        "  Q_T.append(q_t)\n",
        "  grupos.append(grupo)\n",
        "\n",
        "minima,maxima=min(pesos_kg),max(pesos_kg)\n",
        "peso_car=[int((i-minima)/10) for i in pesos_kg  ]\n",
        "\n",
        "minima,maxima=min(alturas_cm),max(alturas_cm)\n",
        "altura_car=[int((i-minima)/10) for i in alturas_cm  ]\n",
        "\n",
        "minima,maxima=min(Frecuencia_cardiaca),max(Frecuencia_cardiaca)\n",
        "Frecuencia_cardiaca_car=[int((i-minima)/10) for i in Frecuencia_cardiaca  ]\n",
        "\n",
        "minima,maxima=min(Num_de_deflex),max(Num_de_deflex)\n",
        "Num_de_deflex_car=[int((i-minima)/10) for i in Num_de_deflex  ]\n",
        "\n",
        "minima,maxima=min(T),max(T)\n",
        "T_car=[int((i-minima)/10) for i in T  ]\n",
        "\n",
        "minima,maxima=min(P),max(P)\n",
        "P_car=[int((i-minima)/10) for i in P  ]\n",
        "\n",
        "minima,maxima=min(Onda_Q),max(Onda_Q)\n",
        "Onda_Q_car=[int((i-minima)/10) for i in Onda_Q  ]\n",
        "\n",
        "minima,maxima=min(Onda_R),max(Onda_R)\n",
        "Onda_R_car=[int((i-minima)/10) for i in Onda_R  ]\n",
        "\n",
        "minima,maxima=min(Onda_S),max(Onda_S)\n",
        "Onda_S_car=[int((i-minima)/10) for i in Onda_S  ]\n",
        "\n",
        "minima,maxima=min(P_R),max(P_R)\n",
        "P_R_car=[int((i-minima)/10) for i in P_R ]\n",
        "\n",
        "minima,maxima=min(Q_T),max(Q_T)\n",
        "Q_T_car=[int((i-minima)/10) for i in Q_T ]\n",
        "\n",
        "minima,maxima=min(grupos),max(grupos)\n",
        "grupos_car=[i-1 for i in grupos ]\n",
        "\n",
        "\n",
        "\n",
        "#data = pd.DataFrame(list(zip(altura,peso,Frecuencia_cardiaca,Num_de_deflex,T_car,P,Onda_Q,Onda_R,Onda_S,P_R,Q_T,grupos)),\n",
        " #                           columns =['alturas_cm', 'pesos_kg','Frecuencia_cardiaca','Num_de_deflex','T','P','Onda_Q','Onda_R','Onda_S','P_R','Q_T','Salida']) # No escalados\n",
        "data = pd.DataFrame(list(zip(altura_car,peso_car,Frecuencia_cardiaca_car,Num_de_deflex_car,T_car,P_car,Onda_Q_car,Onda_R_car,Onda_S_car,P_R_car,Q_T_car,grupos_car)),\n",
        "                            columns =['alturas_cm', 'pesos_kg','Frecuencia_cardiaca','Num_de_deflex','T','P','Onda_Q','Onda_R','Onda_S','P_R','Q_T','Salida'])\n",
        "data.head()"
      ],
      "metadata": {
        "colab": {
          "base_uri": "https://localhost:8080/",
          "height": 206
        },
        "id": "vQ-x72Ljw1-U",
        "outputId": "4d90d36d-df0b-42ef-e7ad-81ea05391034"
      },
      "execution_count": 5,
      "outputs": [
        {
          "output_type": "execute_result",
          "data": {
            "text/plain": [
              "   alturas_cm  pesos_kg  Frecuencia_cardiaca  Num_de_deflex  T   P  Onda_Q  \\\n",
              "0           8         7                    1              3  6  12       0   \n",
              "1           6         5                    0              2  4   3       0   \n",
              "2           6         8                    3              2  7  10       0   \n",
              "3           7         8                    2              4  7  14       0   \n",
              "4           6         4                    4              2  6   9       0   \n",
              "\n",
              "   Onda_R  Onda_S  P_R  Q_T  Salida  \n",
              "0       5       4   19   13       7  \n",
              "1       4       0   17   16       5  \n",
              "2       4       8   16   14       9  \n",
              "3       7       2   20   14       0  \n",
              "4       3       4   16    8      13  "
            ],
            "text/html": [
              "\n",
              "  <div id=\"df-2ef0e1e6-eb91-46a7-b800-ad0181a78205\">\n",
              "    <div class=\"colab-df-container\">\n",
              "      <div>\n",
              "<style scoped>\n",
              "    .dataframe tbody tr th:only-of-type {\n",
              "        vertical-align: middle;\n",
              "    }\n",
              "\n",
              "    .dataframe tbody tr th {\n",
              "        vertical-align: top;\n",
              "    }\n",
              "\n",
              "    .dataframe thead th {\n",
              "        text-align: right;\n",
              "    }\n",
              "</style>\n",
              "<table border=\"1\" class=\"dataframe\">\n",
              "  <thead>\n",
              "    <tr style=\"text-align: right;\">\n",
              "      <th></th>\n",
              "      <th>alturas_cm</th>\n",
              "      <th>pesos_kg</th>\n",
              "      <th>Frecuencia_cardiaca</th>\n",
              "      <th>Num_de_deflex</th>\n",
              "      <th>T</th>\n",
              "      <th>P</th>\n",
              "      <th>Onda_Q</th>\n",
              "      <th>Onda_R</th>\n",
              "      <th>Onda_S</th>\n",
              "      <th>P_R</th>\n",
              "      <th>Q_T</th>\n",
              "      <th>Salida</th>\n",
              "    </tr>\n",
              "  </thead>\n",
              "  <tbody>\n",
              "    <tr>\n",
              "      <th>0</th>\n",
              "      <td>8</td>\n",
              "      <td>7</td>\n",
              "      <td>1</td>\n",
              "      <td>3</td>\n",
              "      <td>6</td>\n",
              "      <td>12</td>\n",
              "      <td>0</td>\n",
              "      <td>5</td>\n",
              "      <td>4</td>\n",
              "      <td>19</td>\n",
              "      <td>13</td>\n",
              "      <td>7</td>\n",
              "    </tr>\n",
              "    <tr>\n",
              "      <th>1</th>\n",
              "      <td>6</td>\n",
              "      <td>5</td>\n",
              "      <td>0</td>\n",
              "      <td>2</td>\n",
              "      <td>4</td>\n",
              "      <td>3</td>\n",
              "      <td>0</td>\n",
              "      <td>4</td>\n",
              "      <td>0</td>\n",
              "      <td>17</td>\n",
              "      <td>16</td>\n",
              "      <td>5</td>\n",
              "    </tr>\n",
              "    <tr>\n",
              "      <th>2</th>\n",
              "      <td>6</td>\n",
              "      <td>8</td>\n",
              "      <td>3</td>\n",
              "      <td>2</td>\n",
              "      <td>7</td>\n",
              "      <td>10</td>\n",
              "      <td>0</td>\n",
              "      <td>4</td>\n",
              "      <td>8</td>\n",
              "      <td>16</td>\n",
              "      <td>14</td>\n",
              "      <td>9</td>\n",
              "    </tr>\n",
              "    <tr>\n",
              "      <th>3</th>\n",
              "      <td>7</td>\n",
              "      <td>8</td>\n",
              "      <td>2</td>\n",
              "      <td>4</td>\n",
              "      <td>7</td>\n",
              "      <td>14</td>\n",
              "      <td>0</td>\n",
              "      <td>7</td>\n",
              "      <td>2</td>\n",
              "      <td>20</td>\n",
              "      <td>14</td>\n",
              "      <td>0</td>\n",
              "    </tr>\n",
              "    <tr>\n",
              "      <th>4</th>\n",
              "      <td>6</td>\n",
              "      <td>4</td>\n",
              "      <td>4</td>\n",
              "      <td>2</td>\n",
              "      <td>6</td>\n",
              "      <td>9</td>\n",
              "      <td>0</td>\n",
              "      <td>3</td>\n",
              "      <td>4</td>\n",
              "      <td>16</td>\n",
              "      <td>8</td>\n",
              "      <td>13</td>\n",
              "    </tr>\n",
              "  </tbody>\n",
              "</table>\n",
              "</div>\n",
              "      <button class=\"colab-df-convert\" onclick=\"convertToInteractive('df-2ef0e1e6-eb91-46a7-b800-ad0181a78205')\"\n",
              "              title=\"Convert this dataframe to an interactive table.\"\n",
              "              style=\"display:none;\">\n",
              "        \n",
              "  <svg xmlns=\"http://www.w3.org/2000/svg\" height=\"24px\"viewBox=\"0 0 24 24\"\n",
              "       width=\"24px\">\n",
              "    <path d=\"M0 0h24v24H0V0z\" fill=\"none\"/>\n",
              "    <path d=\"M18.56 5.44l.94 2.06.94-2.06 2.06-.94-2.06-.94-.94-2.06-.94 2.06-2.06.94zm-11 1L8.5 8.5l.94-2.06 2.06-.94-2.06-.94L8.5 2.5l-.94 2.06-2.06.94zm10 10l.94 2.06.94-2.06 2.06-.94-2.06-.94-.94-2.06-.94 2.06-2.06.94z\"/><path d=\"M17.41 7.96l-1.37-1.37c-.4-.4-.92-.59-1.43-.59-.52 0-1.04.2-1.43.59L10.3 9.45l-7.72 7.72c-.78.78-.78 2.05 0 2.83L4 21.41c.39.39.9.59 1.41.59.51 0 1.02-.2 1.41-.59l7.78-7.78 2.81-2.81c.8-.78.8-2.07 0-2.86zM5.41 20L4 18.59l7.72-7.72 1.47 1.35L5.41 20z\"/>\n",
              "  </svg>\n",
              "      </button>\n",
              "      \n",
              "  <style>\n",
              "    .colab-df-container {\n",
              "      display:flex;\n",
              "      flex-wrap:wrap;\n",
              "      gap: 12px;\n",
              "    }\n",
              "\n",
              "    .colab-df-convert {\n",
              "      background-color: #E8F0FE;\n",
              "      border: none;\n",
              "      border-radius: 50%;\n",
              "      cursor: pointer;\n",
              "      display: none;\n",
              "      fill: #1967D2;\n",
              "      height: 32px;\n",
              "      padding: 0 0 0 0;\n",
              "      width: 32px;\n",
              "    }\n",
              "\n",
              "    .colab-df-convert:hover {\n",
              "      background-color: #E2EBFA;\n",
              "      box-shadow: 0px 1px 2px rgba(60, 64, 67, 0.3), 0px 1px 3px 1px rgba(60, 64, 67, 0.15);\n",
              "      fill: #174EA6;\n",
              "    }\n",
              "\n",
              "    [theme=dark] .colab-df-convert {\n",
              "      background-color: #3B4455;\n",
              "      fill: #D2E3FC;\n",
              "    }\n",
              "\n",
              "    [theme=dark] .colab-df-convert:hover {\n",
              "      background-color: #434B5C;\n",
              "      box-shadow: 0px 1px 3px 1px rgba(0, 0, 0, 0.15);\n",
              "      filter: drop-shadow(0px 1px 2px rgba(0, 0, 0, 0.3));\n",
              "      fill: #FFFFFF;\n",
              "    }\n",
              "  </style>\n",
              "\n",
              "      <script>\n",
              "        const buttonEl =\n",
              "          document.querySelector('#df-2ef0e1e6-eb91-46a7-b800-ad0181a78205 button.colab-df-convert');\n",
              "        buttonEl.style.display =\n",
              "          google.colab.kernel.accessAllowed ? 'block' : 'none';\n",
              "\n",
              "        async function convertToInteractive(key) {\n",
              "          const element = document.querySelector('#df-2ef0e1e6-eb91-46a7-b800-ad0181a78205');\n",
              "          const dataTable =\n",
              "            await google.colab.kernel.invokeFunction('convertToInteractive',\n",
              "                                                     [key], {});\n",
              "          if (!dataTable) return;\n",
              "\n",
              "          const docLinkHtml = 'Like what you see? Visit the ' +\n",
              "            '<a target=\"_blank\" href=https://colab.research.google.com/notebooks/data_table.ipynb>data table notebook</a>'\n",
              "            + ' to learn more about interactive tables.';\n",
              "          element.innerHTML = '';\n",
              "          dataTable['output_type'] = 'display_data';\n",
              "          await google.colab.output.renderOutput(dataTable, element);\n",
              "          const docLink = document.createElement('div');\n",
              "          docLink.innerHTML = docLinkHtml;\n",
              "          element.appendChild(docLink);\n",
              "        }\n",
              "      </script>\n",
              "    </div>\n",
              "  </div>\n",
              "  "
            ]
          },
          "metadata": {},
          "execution_count": 5
        }
      ]
    },
    {
      "cell_type": "markdown",
      "source": [
        "Se construcción el DataFrame, cuyo dato se salida esta en la ultima columna"
      ],
      "metadata": {
        "id": "QeVrgqBqOTSW"
      }
    },
    {
      "cell_type": "markdown",
      "source": [
        "##Pre-procesamiento de datos\n",
        "Ya que utilizaremos un metodo de clasificación basada en regresión logistica, es necesario ajustar la salida a 0 o 1, donde:\n",
        "<table>\n",
        "  <tr>\n",
        "    <th>Salida</th>\n",
        "    <th>Salida ajustada</th>\n",
        "  </tr>\n",
        "  <tr>\n",
        "    <td>1</td>\n",
        "    <td>Paciente sin arritmia (0)</td>   \n",
        "  </tr>\n",
        "  <tr>\n",
        "    <td>2-16</td>\n",
        "    <td>Paciente con arritmia (1)</td>   \n",
        "  </tr>\n",
        "   \n",
        "</table>\n",
        "Lo anterior indica que si la salida es 0 el diagnostico es negativo, de lo contrario el diagnostico es positivo."
      ],
      "metadata": {
        "id": "Q7Ja8U-alDua"
      }
    },
    {
      "cell_type": "code",
      "source": [
        "# Realizamos el preprocesamiento de la salida\n",
        "Pre_out = data['Salida'].copy() # Creamos una copia de la columna de salida.\n",
        "for index, value in enumerate(grupos):\n",
        "    if value == 1:\n",
        "      Pre_out[index] = 0\n",
        "    else:\n",
        "      Pre_out[index] = 1\n",
        "Pre_out"
      ],
      "metadata": {
        "colab": {
          "base_uri": "https://localhost:8080/"
        },
        "id": "w94wdS2jmvC4",
        "outputId": "501a3eca-7014-4932-c852-0cd57703607c"
      },
      "execution_count": 6,
      "outputs": [
        {
          "output_type": "execute_result",
          "data": {
            "text/plain": [
              "0      1\n",
              "1      1\n",
              "2      1\n",
              "3      0\n",
              "4      1\n",
              "      ..\n",
              "444    0\n",
              "445    1\n",
              "446    1\n",
              "447    0\n",
              "448    0\n",
              "Name: Salida, Length: 449, dtype: int64"
            ]
          },
          "metadata": {},
          "execution_count": 6
        }
      ]
    },
    {
      "cell_type": "markdown",
      "source": [
        "De esta forma aseguramos que la salida (y) sea un 1 o 0, de tal forma que podamos usar el metodo de regresión logistica como clasificador"
      ],
      "metadata": {
        "id": "-vcO_Tx9Uh2O"
      }
    },
    {
      "cell_type": "markdown",
      "source": [
        "Selección datos de entrada y salida del dataset creado previamente"
      ],
      "metadata": {
        "id": "tMwthbqoyX4l"
      }
    },
    {
      "cell_type": "code",
      "source": [
        "X = data.iloc[:,:11] # Seleccionamos las primeras 11 columnas del DataFrame correspondiente a las entradas\n",
        "y = Pre_out # Seleccionamos la Salida previamente modificada\n",
        "m,n = X.shape\n",
        "m,n"
      ],
      "metadata": {
        "colab": {
          "base_uri": "https://localhost:8080/"
        },
        "id": "Fu0PoxM5yi-S",
        "outputId": "414c50be-f40e-4452-f04d-a7f728c19c69"
      },
      "execution_count": 7,
      "outputs": [
        {
          "output_type": "execute_result",
          "data": {
            "text/plain": [
              "(449, 11)"
            ]
          },
          "metadata": {},
          "execution_count": 7
        }
      ]
    },
    {
      "cell_type": "code",
      "source": [
        "import matplotlib.pyplot as plt\n",
        "from matplotlib import style\n",
        "import numpy as np\n",
        "np.random.seed(7)\n",
        "from sklearn.model_selection import train_test_split\n",
        "from sklearn.metrics import mean_squared_error\n",
        "from sklearn.linear_model import LogisticRegression\n",
        "from sklearn.metrics import accuracy_score\n",
        "from sklearn.metrics import confusion_matrix\n",
        "from sklearn.neighbors import KNeighborsRegressor\n",
        "from sklearn.neural_network import MLPClassifier\n",
        "plt.rcParams['image.cmap'] = \"bwr\"\n",
        "plt.rcParams['savefig.bbox'] = \"tight\"\n",
        "style.use('ggplot') or plt.style.use('ggplot')\n",
        "import warnings\n",
        "warnings.filterwarnings('ignore')\n",
        "# División de los datos en train y test\n",
        "# ==============================================================================\n",
        "X_train, X_test, y_train, y_test = train_test_split(\n",
        "                                       X,\n",
        "                                       y,\n",
        "                                        train_size   = 0.5,\n",
        "                                        random_state = 1234,\n",
        "                                        shuffle      = True)\n",
        "X_train.shape, X_test.shape, y_train.shape, y_test.shape"
      ],
      "metadata": {
        "colab": {
          "base_uri": "https://localhost:8080/"
        },
        "id": "pA2r_ASYzVl6",
        "outputId": "e8e7c512-e805-4726-b27f-1808e8922cac"
      },
      "execution_count": 24,
      "outputs": [
        {
          "output_type": "execute_result",
          "data": {
            "text/plain": [
              "((224, 11), (225, 11), (224,), (225,))"
            ]
          },
          "metadata": {},
          "execution_count": 24
        }
      ]
    },
    {
      "cell_type": "markdown",
      "source": [
        "# Clasificación sin discriminación de Columnas\n",
        "Inicialmente realizaremos el ejercicio de clasificación con los datos de entrada sin ningun tipo de modificación.\n",
        "## Vecino mas cercano\n"
      ],
      "metadata": {
        "id": "aKfib6BUWI4X"
      }
    },
    {
      "cell_type": "code",
      "source": [
        "from scipy.linalg.decomp_svd import zeros\n",
        "k_min, err_min = np.inf,np.inf\n",
        "i = 200\n",
        "ks, errores = np.zeros(i-1),np.zeros(i-1) # Declaramos los arreglos en donde se van a guardar los valores de k y el error\n",
        "for k in range(1,i,1):\n",
        "  model = KNeighborsRegressor(n_neighbors=k)\n",
        "  model.fit(X_train, y_train)\n",
        "  y_pred = model.predict(X_test)\n",
        "  error = mean_squared_error(y_test, y_pred)\n",
        "  ks[k-1] = k # Guardamos los valores de en un arreglo\n",
        "  errores[k-1] = error # Guardamos los valores de error de cada k en un arreglo\n",
        "  # Evaluamos el error minimo y guardamos el valor de k de dicho valor\n",
        "  if error<err_min:\n",
        "    err_min = error\n",
        "    kf = k\n",
        "    rmse_vecinosn = mean_squared_error(y_test, y_pred)\n",
        "print('El minimo error encontrado es',rmse_vecinosn,', cuyo valor de k es',kf)"
      ],
      "metadata": {
        "colab": {
          "base_uri": "https://localhost:8080/"
        },
        "id": "ug3R7Ku4csW-",
        "outputId": "25d7a501-cbf0-4fba-b782-87b1c10af683"
      },
      "execution_count": 86,
      "outputs": [
        {
          "output_type": "stream",
          "name": "stdout",
          "text": [
            "El minimo error encontrado es 0.22275555555555554 , cuyo valor de k es 25\n"
          ]
        }
      ]
    },
    {
      "cell_type": "markdown",
      "source": [
        "##Bayes"
      ],
      "metadata": {
        "id": "LQhNHhlTeO5N"
      }
    },
    {
      "cell_type": "code",
      "source": [
        "from sklearn.naive_bayes import CategoricalNB\n",
        "X_train, X_test, y_train, y_test = train_test_split(\n",
        "                                       X,\n",
        "                                       y,\n",
        "                                        train_size   = 0.5,\n",
        "                                        random_state = 1234,\n",
        "                                        shuffle      = True)\n",
        "X_train.shape, X_test.shape, y_train.shape, y_test.shape\n",
        "\n",
        "\n",
        "clf = CategoricalNB()\n",
        "clf.fit(X_train, y_train)\n",
        "rmse_Bayen = mean_squared_error(y_test, y_pred)\n",
        "presBn = accuracy_score(y_train, clf.predict(X_train))\n",
        "print('El error en la predicción corresponde a:',rmse_Bayen,',con una precisión de:',presBn)\n"
      ],
      "metadata": {
        "colab": {
          "base_uri": "https://localhost:8080/"
        },
        "id": "FhUA2GivdKUr",
        "outputId": "015ddfa3-48c6-44b8-81a6-e1a402c331f1"
      },
      "execution_count": 88,
      "outputs": [
        {
          "output_type": "stream",
          "name": "stdout",
          "text": [
            "El error en la predicción corresponde a: 0.24461514720447575 ,con una precisión de: 0.8169642857142857\n"
          ]
        }
      ]
    },
    {
      "cell_type": "markdown",
      "source": [
        "#Regresión Logistica"
      ],
      "metadata": {
        "id": "jUcA1I7XeYLB"
      }
    },
    {
      "cell_type": "code",
      "source": [
        "X_train, X_test, y_train, y_test = train_test_split(\n",
        "                                       X,\n",
        "                                       y,\n",
        "                                        train_size   = 0.5,\n",
        "                                        random_state = 1234,\n",
        "                                        shuffle      = True)\n",
        "X_train.shape, X_test.shape, y_train.shape, y_test.shape\n",
        "\n",
        "modelo = LogisticRegression()\n",
        "modelo.fit(X = X_train, y = y_train)\n",
        "presRLn = accuracy_score(y_train, modelo.predict(X_train))\n",
        "rmse_RLn = mean_squared_error(y_test, y_pred)\n",
        "print('El error en la predicción corresponde a:',rmse_RLn,',con una precisión de:',presRLn)\n"
      ],
      "metadata": {
        "colab": {
          "base_uri": "https://localhost:8080/"
        },
        "id": "tawLc_j7ehEZ",
        "outputId": "ffb8b58e-c836-482d-e468-75cf79be102f"
      },
      "execution_count": 89,
      "outputs": [
        {
          "output_type": "stream",
          "name": "stdout",
          "text": [
            "El error en la predicción corresponde a: 0.24461514720447575 ,con una precisión de: 0.6651785714285714\n"
          ]
        }
      ]
    },
    {
      "cell_type": "markdown",
      "source": [
        "#Discriminación de columnas\n"
      ],
      "metadata": {
        "id": "ZNEvMuKg1SNx"
      }
    },
    {
      "cell_type": "markdown",
      "source": [
        "##Penalidad tipo Ridge"
      ],
      "metadata": {
        "id": "WVJxxOZb2M4o"
      }
    },
    {
      "cell_type": "code",
      "source": [
        "modelo = LogisticRegression(penalty='l2', solver='liblinear')\n",
        "\n",
        "modelo.fit(X = X_train, y = y_train)\n",
        "coef_cresta = abs(modelo.coef_.flatten())\n"
      ],
      "metadata": {
        "id": "yRhztBRN2R-t"
      },
      "execution_count": 34,
      "outputs": []
    },
    {
      "cell_type": "code",
      "source": [
        "fig, ax = plt.subplots(figsize=(11, 3.84))\n",
        "ax.bar(range(n),abs(modelo.coef_.flatten()))\n",
        "ax.set_xlabel('variable')\n",
        "ax.set_ylabel('coeficientes')\n",
        "ax.set_title('Coeficientes del modelo');\n",
        "X.head()\n"
      ],
      "metadata": {
        "colab": {
          "base_uri": "https://localhost:8080/",
          "height": 480
        },
        "id": "uXFGRJ562jRR",
        "outputId": "6621a2a9-1ac1-4254-c147-aa6d8923c75a"
      },
      "execution_count": 35,
      "outputs": [
        {
          "output_type": "execute_result",
          "data": {
            "text/plain": [
              "   alturas_cm  pesos_kg  Frecuencia_cardiaca  Num_de_deflex  T   P  Onda_Q  \\\n",
              "0           8         7                    1              3  6  12       0   \n",
              "1           6         5                    0              2  4   3       0   \n",
              "2           6         8                    3              2  7  10       0   \n",
              "3           7         8                    2              4  7  14       0   \n",
              "4           6         4                    4              2  6   9       0   \n",
              "\n",
              "   Onda_R  Onda_S  P_R  Q_T  \n",
              "0       5       4   19   13  \n",
              "1       4       0   17   16  \n",
              "2       4       8   16   14  \n",
              "3       7       2   20   14  \n",
              "4       3       4   16    8  "
            ],
            "text/html": [
              "\n",
              "  <div id=\"df-0fd99a6d-370d-425d-90f2-4b92f6f234b2\">\n",
              "    <div class=\"colab-df-container\">\n",
              "      <div>\n",
              "<style scoped>\n",
              "    .dataframe tbody tr th:only-of-type {\n",
              "        vertical-align: middle;\n",
              "    }\n",
              "\n",
              "    .dataframe tbody tr th {\n",
              "        vertical-align: top;\n",
              "    }\n",
              "\n",
              "    .dataframe thead th {\n",
              "        text-align: right;\n",
              "    }\n",
              "</style>\n",
              "<table border=\"1\" class=\"dataframe\">\n",
              "  <thead>\n",
              "    <tr style=\"text-align: right;\">\n",
              "      <th></th>\n",
              "      <th>alturas_cm</th>\n",
              "      <th>pesos_kg</th>\n",
              "      <th>Frecuencia_cardiaca</th>\n",
              "      <th>Num_de_deflex</th>\n",
              "      <th>T</th>\n",
              "      <th>P</th>\n",
              "      <th>Onda_Q</th>\n",
              "      <th>Onda_R</th>\n",
              "      <th>Onda_S</th>\n",
              "      <th>P_R</th>\n",
              "      <th>Q_T</th>\n",
              "    </tr>\n",
              "  </thead>\n",
              "  <tbody>\n",
              "    <tr>\n",
              "      <th>0</th>\n",
              "      <td>8</td>\n",
              "      <td>7</td>\n",
              "      <td>1</td>\n",
              "      <td>3</td>\n",
              "      <td>6</td>\n",
              "      <td>12</td>\n",
              "      <td>0</td>\n",
              "      <td>5</td>\n",
              "      <td>4</td>\n",
              "      <td>19</td>\n",
              "      <td>13</td>\n",
              "    </tr>\n",
              "    <tr>\n",
              "      <th>1</th>\n",
              "      <td>6</td>\n",
              "      <td>5</td>\n",
              "      <td>0</td>\n",
              "      <td>2</td>\n",
              "      <td>4</td>\n",
              "      <td>3</td>\n",
              "      <td>0</td>\n",
              "      <td>4</td>\n",
              "      <td>0</td>\n",
              "      <td>17</td>\n",
              "      <td>16</td>\n",
              "    </tr>\n",
              "    <tr>\n",
              "      <th>2</th>\n",
              "      <td>6</td>\n",
              "      <td>8</td>\n",
              "      <td>3</td>\n",
              "      <td>2</td>\n",
              "      <td>7</td>\n",
              "      <td>10</td>\n",
              "      <td>0</td>\n",
              "      <td>4</td>\n",
              "      <td>8</td>\n",
              "      <td>16</td>\n",
              "      <td>14</td>\n",
              "    </tr>\n",
              "    <tr>\n",
              "      <th>3</th>\n",
              "      <td>7</td>\n",
              "      <td>8</td>\n",
              "      <td>2</td>\n",
              "      <td>4</td>\n",
              "      <td>7</td>\n",
              "      <td>14</td>\n",
              "      <td>0</td>\n",
              "      <td>7</td>\n",
              "      <td>2</td>\n",
              "      <td>20</td>\n",
              "      <td>14</td>\n",
              "    </tr>\n",
              "    <tr>\n",
              "      <th>4</th>\n",
              "      <td>6</td>\n",
              "      <td>4</td>\n",
              "      <td>4</td>\n",
              "      <td>2</td>\n",
              "      <td>6</td>\n",
              "      <td>9</td>\n",
              "      <td>0</td>\n",
              "      <td>3</td>\n",
              "      <td>4</td>\n",
              "      <td>16</td>\n",
              "      <td>8</td>\n",
              "    </tr>\n",
              "  </tbody>\n",
              "</table>\n",
              "</div>\n",
              "      <button class=\"colab-df-convert\" onclick=\"convertToInteractive('df-0fd99a6d-370d-425d-90f2-4b92f6f234b2')\"\n",
              "              title=\"Convert this dataframe to an interactive table.\"\n",
              "              style=\"display:none;\">\n",
              "        \n",
              "  <svg xmlns=\"http://www.w3.org/2000/svg\" height=\"24px\"viewBox=\"0 0 24 24\"\n",
              "       width=\"24px\">\n",
              "    <path d=\"M0 0h24v24H0V0z\" fill=\"none\"/>\n",
              "    <path d=\"M18.56 5.44l.94 2.06.94-2.06 2.06-.94-2.06-.94-.94-2.06-.94 2.06-2.06.94zm-11 1L8.5 8.5l.94-2.06 2.06-.94-2.06-.94L8.5 2.5l-.94 2.06-2.06.94zm10 10l.94 2.06.94-2.06 2.06-.94-2.06-.94-.94-2.06-.94 2.06-2.06.94z\"/><path d=\"M17.41 7.96l-1.37-1.37c-.4-.4-.92-.59-1.43-.59-.52 0-1.04.2-1.43.59L10.3 9.45l-7.72 7.72c-.78.78-.78 2.05 0 2.83L4 21.41c.39.39.9.59 1.41.59.51 0 1.02-.2 1.41-.59l7.78-7.78 2.81-2.81c.8-.78.8-2.07 0-2.86zM5.41 20L4 18.59l7.72-7.72 1.47 1.35L5.41 20z\"/>\n",
              "  </svg>\n",
              "      </button>\n",
              "      \n",
              "  <style>\n",
              "    .colab-df-container {\n",
              "      display:flex;\n",
              "      flex-wrap:wrap;\n",
              "      gap: 12px;\n",
              "    }\n",
              "\n",
              "    .colab-df-convert {\n",
              "      background-color: #E8F0FE;\n",
              "      border: none;\n",
              "      border-radius: 50%;\n",
              "      cursor: pointer;\n",
              "      display: none;\n",
              "      fill: #1967D2;\n",
              "      height: 32px;\n",
              "      padding: 0 0 0 0;\n",
              "      width: 32px;\n",
              "    }\n",
              "\n",
              "    .colab-df-convert:hover {\n",
              "      background-color: #E2EBFA;\n",
              "      box-shadow: 0px 1px 2px rgba(60, 64, 67, 0.3), 0px 1px 3px 1px rgba(60, 64, 67, 0.15);\n",
              "      fill: #174EA6;\n",
              "    }\n",
              "\n",
              "    [theme=dark] .colab-df-convert {\n",
              "      background-color: #3B4455;\n",
              "      fill: #D2E3FC;\n",
              "    }\n",
              "\n",
              "    [theme=dark] .colab-df-convert:hover {\n",
              "      background-color: #434B5C;\n",
              "      box-shadow: 0px 1px 3px 1px rgba(0, 0, 0, 0.15);\n",
              "      filter: drop-shadow(0px 1px 2px rgba(0, 0, 0, 0.3));\n",
              "      fill: #FFFFFF;\n",
              "    }\n",
              "  </style>\n",
              "\n",
              "      <script>\n",
              "        const buttonEl =\n",
              "          document.querySelector('#df-0fd99a6d-370d-425d-90f2-4b92f6f234b2 button.colab-df-convert');\n",
              "        buttonEl.style.display =\n",
              "          google.colab.kernel.accessAllowed ? 'block' : 'none';\n",
              "\n",
              "        async function convertToInteractive(key) {\n",
              "          const element = document.querySelector('#df-0fd99a6d-370d-425d-90f2-4b92f6f234b2');\n",
              "          const dataTable =\n",
              "            await google.colab.kernel.invokeFunction('convertToInteractive',\n",
              "                                                     [key], {});\n",
              "          if (!dataTable) return;\n",
              "\n",
              "          const docLinkHtml = 'Like what you see? Visit the ' +\n",
              "            '<a target=\"_blank\" href=https://colab.research.google.com/notebooks/data_table.ipynb>data table notebook</a>'\n",
              "            + ' to learn more about interactive tables.';\n",
              "          element.innerHTML = '';\n",
              "          dataTable['output_type'] = 'display_data';\n",
              "          await google.colab.output.renderOutput(dataTable, element);\n",
              "          const docLink = document.createElement('div');\n",
              "          docLink.innerHTML = docLinkHtml;\n",
              "          element.appendChild(docLink);\n",
              "        }\n",
              "      </script>\n",
              "    </div>\n",
              "  </div>\n",
              "  "
            ]
          },
          "metadata": {},
          "execution_count": 35
        },
        {
          "output_type": "display_data",
          "data": {
            "text/plain": [
              "<Figure size 792x276.48 with 1 Axes>"
            ],
            "image/png": "[encoded data removed]"
          },
          "metadata": {}
        }
      ]
    },
    {
      "cell_type": "code",
      "source": [
        "modelo.coef_\n",
        "zeros = np.count_nonzero(abs(modelo.coef_) < 0.0099)\n",
        "zeros"
      ],
      "metadata": {
        "colab": {
          "base_uri": "https://localhost:8080/"
        },
        "id": "P4er5S21zkXs",
        "outputId": "7a789e17-ff69-4234-e0a9-4ae586f18607"
      },
      "execution_count": 61,
      "outputs": [
        {
          "output_type": "execute_result",
          "data": {
            "text/plain": [
              "1"
            ]
          },
          "metadata": {},
          "execution_count": 61
        }
      ]
    },
    {
      "cell_type": "markdown",
      "source": [
        "Si mantenemos el criterio de despreciar los coeficientes menores a 0.01, con el metodo Ridge podriamos despreciar 2 coeficientes"
      ],
      "metadata": {
        "id": "W0v_uxygzwU2"
      }
    },
    {
      "cell_type": "markdown",
      "source": [
        "##Penalidad LASSO (Least absolute shrinkage and selection operator)"
      ],
      "metadata": {
        "id": "Y0Q83QgB3HGI"
      }
    },
    {
      "cell_type": "code",
      "source": [
        "modelo = LogisticRegression(penalty='l1', solver='liblinear')\n",
        "modelo.fit(X = X_train, y = y_train)\n",
        "coef_lasso = abs(modelo.coef_.flatten())"
      ],
      "metadata": {
        "id": "mOCI8Zel3MLK"
      },
      "execution_count": 37,
      "outputs": []
    },
    {
      "cell_type": "code",
      "source": [
        "fig, ax = plt.subplots(figsize=(11, 3.84))\n",
        "ax.bar(range(n),abs(modelo.coef_.flatten()))\n",
        "ax.set_xlabel('variable')\n",
        "ax.set_ylabel('coeficientes')\n",
        "ax.set_title('Coeficientes del modelo');"
      ],
      "metadata": {
        "colab": {
          "base_uri": "https://localhost:8080/",
          "height": 291
        },
        "id": "4O1zBmVa4DZU",
        "outputId": "bc73a0c5-2470-4f26-e247-320da92ab607"
      },
      "execution_count": 38,
      "outputs": [
        {
          "output_type": "display_data",
          "data": {
            "text/plain": [
              "<Figure size 792x276.48 with 1 Axes>"
            ],
            "image/png": "[encoded data removed]"
          },
          "metadata": {}
        }
      ]
    },
    {
      "cell_type": "code",
      "source": [
        "fig, ax = plt.subplots(2)\n",
        "ax[0].bar(range(n),coef_lasso,color='r')\n",
        "ax[1].bar(range(n),coef_cresta,color='b')\n"
      ],
      "metadata": {
        "colab": {
          "base_uri": "https://localhost:8080/",
          "height": 282
        },
        "id": "TqTGM4TT6xpQ",
        "outputId": "8233d1d4-1ad1-43a9-e529-70d234a250d8"
      },
      "execution_count": 40,
      "outputs": [
        {
          "output_type": "execute_result",
          "data": {
            "text/plain": [
              "<BarContainer object of 11 artists>"
            ]
          },
          "metadata": {},
          "execution_count": 40
        },
        {
          "output_type": "display_data",
          "data": {
            "text/plain": [
              "<Figure size 432x288 with 2 Axes>"
            ],
            "image/png": "[encoded data removed]"
          },
          "metadata": {}
        }
      ]
    },
    {
      "cell_type": "markdown",
      "source": [
        "\n",
        "\n",
        "**Teniendo en cuenta el criterio de discrimar los coeficientes menores a 0.01 podriamos despreciar las columnas 2 y 10**, por lo que creamos una copia del Dataset principal, eliminando las columnas ['Frecuencia_cardiaca']"
      ],
      "metadata": {
        "id": "MOD-QZrI771S"
      }
    },
    {
      "cell_type": "markdown",
      "source": [
        "#Clasificación con discriminación de columnas"
      ],
      "metadata": {
        "id": "fm1ahsy1zPDx"
      }
    },
    {
      "cell_type": "code",
      "source": [
        "columns2 =['alturas_cm', 'pesos_kg','Frecuencia_cardiaca','Num_de_deflex','T','P',\n",
        "          'Onda_Q','Onda_R','Onda_S','P_R','Q_T','Salida']\n",
        "#columns2 = columns2.pop(0)\n",
        "data2 = data.copy()\n",
        "data2 = data2.drop(['Frecuencia_cardiaca'],axis=1)\n",
        "data2"
      ],
      "metadata": {
        "colab": {
          "base_uri": "https://localhost:8080/",
          "height": 424
        },
        "id": "1P-brXVt8Ls_",
        "outputId": "3bac0a03-9809-472f-efc9-0fb757b93fd0"
      },
      "execution_count": 62,
      "outputs": [
        {
          "output_type": "execute_result",
          "data": {
            "text/plain": [
              "     alturas_cm  pesos_kg  Num_de_deflex   T   P  Onda_Q  Onda_R  Onda_S  P_R  \\\n",
              "0             8         7              3   6  12       0       5       4   19   \n",
              "1             6         5              2   4   3       0       4       0   17   \n",
              "2             6         8              2   7  10       0       4       8   16   \n",
              "3             7         8              4   7  14       0       7       2   20   \n",
              "4             6         4              2   6   9       0       3       4   16   \n",
              "..          ...       ...            ...  ..  ..     ...     ...     ...  ...   \n",
              "444           5         6              2   4  11       0       5       2   19   \n",
              "445           8         7              2   9   7       0       4       3   13   \n",
              "446           6         5              4   8  11       1       4       4   17   \n",
              "447           5         4              3  11   6       0       5       0   10   \n",
              "448           5         6              2   3   7       0       4       2   12   \n",
              "\n",
              "     Q_T  Salida  \n",
              "0     13       7  \n",
              "1     16       5  \n",
              "2     14       9  \n",
              "3     14       0  \n",
              "4      8      13  \n",
              "..   ...     ...  \n",
              "444   14       0  \n",
              "445   12       9  \n",
              "446   12       1  \n",
              "447   14       0  \n",
              "448   12       0  \n",
              "\n",
              "[449 rows x 11 columns]"
            ],
            "text/html": [
              "\n",
              "  <div id=\"df-ba90219f-b988-42fe-8ca4-eabaa0f4ddc3\">\n",
              "    <div class=\"colab-df-container\">\n",
              "      <div>\n",
              "<style scoped>\n",
              "    .dataframe tbody tr th:only-of-type {\n",
              "        vertical-align: middle;\n",
              "    }\n",
              "\n",
              "    .dataframe tbody tr th {\n",
              "        vertical-align: top;\n",
              "    }\n",
              "\n",
              "    .dataframe thead th {\n",
              "        text-align: right;\n",
              "    }\n",
              "</style>\n",
              "<table border=\"1\" class=\"dataframe\">\n",
              "  <thead>\n",
              "    <tr style=\"text-align: right;\">\n",
              "      <th></th>\n",
              "      <th>alturas_cm</th>\n",
              "      <th>pesos_kg</th>\n",
              "      <th>Num_de_deflex</th>\n",
              "      <th>T</th>\n",
              "      <th>P</th>\n",
              "      <th>Onda_Q</th>\n",
              "      <th>Onda_R</th>\n",
              "      <th>Onda_S</th>\n",
              "      <th>P_R</th>\n",
              "      <th>Q_T</th>\n",
              "      <th>Salida</th>\n",
              "    </tr>\n",
              "  </thead>\n",
              "  <tbody>\n",
              "    <tr>\n",
              "      <th>0</th>\n",
              "      <td>8</td>\n",
              "      <td>7</td>\n",
              "      <td>3</td>\n",
              "      <td>6</td>\n",
              "      <td>12</td>\n",
              "      <td>0</td>\n",
              "      <td>5</td>\n",
              "      <td>4</td>\n",
              "      <td>19</td>\n",
              "      <td>13</td>\n",
              "      <td>7</td>\n",
              "    </tr>\n",
              "    <tr>\n",
              "      <th>1</th>\n",
              "      <td>6</td>\n",
              "      <td>5</td>\n",
              "      <td>2</td>\n",
              "      <td>4</td>\n",
              "      <td>3</td>\n",
              "      <td>0</td>\n",
              "      <td>4</td>\n",
              "      <td>0</td>\n",
              "      <td>17</td>\n",
              "      <td>16</td>\n",
              "      <td>5</td>\n",
              "    </tr>\n",
              "    <tr>\n",
              "      <th>2</th>\n",
              "      <td>6</td>\n",
              "      <td>8</td>\n",
              "      <td>2</td>\n",
              "      <td>7</td>\n",
              "      <td>10</td>\n",
              "      <td>0</td>\n",
              "      <td>4</td>\n",
              "      <td>8</td>\n",
              "      <td>16</td>\n",
              "      <td>14</td>\n",
              "      <td>9</td>\n",
              "    </tr>\n",
              "    <tr>\n",
              "      <th>3</th>\n",
              "      <td>7</td>\n",
              "      <td>8</td>\n",
              "      <td>4</td>\n",
              "      <td>7</td>\n",
              "      <td>14</td>\n",
              "      <td>0</td>\n",
              "      <td>7</td>\n",
              "      <td>2</td>\n",
              "      <td>20</td>\n",
              "      <td>14</td>\n",
              "      <td>0</td>\n",
              "    </tr>\n",
              "    <tr>\n",
              "      <th>4</th>\n",
              "      <td>6</td>\n",
              "      <td>4</td>\n",
              "      <td>2</td>\n",
              "      <td>6</td>\n",
              "      <td>9</td>\n",
              "      <td>0</td>\n",
              "      <td>3</td>\n",
              "      <td>4</td>\n",
              "      <td>16</td>\n",
              "      <td>8</td>\n",
              "      <td>13</td>\n",
              "    </tr>\n",
              "    <tr>\n",
              "      <th>...</th>\n",
              "      <td>...</td>\n",
              "      <td>...</td>\n",
              "      <td>...</td>\n",
              "      <td>...</td>\n",
              "      <td>...</td>\n",
              "      <td>...</td>\n",
              "      <td>...</td>\n",
              "      <td>...</td>\n",
              "      <td>...</td>\n",
              "      <td>...</td>\n",
              "      <td>...</td>\n",
              "    </tr>\n",
              "    <tr>\n",
              "      <th>444</th>\n",
              "      <td>5</td>\n",
              "      <td>6</td>\n",
              "      <td>2</td>\n",
              "      <td>4</td>\n",
              "      <td>11</td>\n",
              "      <td>0</td>\n",
              "      <td>5</td>\n",
              "      <td>2</td>\n",
              "      <td>19</td>\n",
              "      <td>14</td>\n",
              "      <td>0</td>\n",
              "    </tr>\n",
              "    <tr>\n",
              "      <th>445</th>\n",
              "      <td>8</td>\n",
              "      <td>7</td>\n",
              "      <td>2</td>\n",
              "      <td>9</td>\n",
              "      <td>7</td>\n",
              "      <td>0</td>\n",
              "      <td>4</td>\n",
              "      <td>3</td>\n",
              "      <td>13</td>\n",
              "      <td>12</td>\n",
              "      <td>9</td>\n",
              "    </tr>\n",
              "    <tr>\n",
              "      <th>446</th>\n",
              "      <td>6</td>\n",
              "      <td>5</td>\n",
              "      <td>4</td>\n",
              "      <td>8</td>\n",
              "      <td>11</td>\n",
              "      <td>1</td>\n",
              "      <td>4</td>\n",
              "      <td>4</td>\n",
              "      <td>17</td>\n",
              "      <td>12</td>\n",
              "      <td>1</td>\n",
              "    </tr>\n",
              "    <tr>\n",
              "      <th>447</th>\n",
              "      <td>5</td>\n",
              "      <td>4</td>\n",
              "      <td>3</td>\n",
              "      <td>11</td>\n",
              "      <td>6</td>\n",
              "      <td>0</td>\n",
              "      <td>5</td>\n",
              "      <td>0</td>\n",
              "      <td>10</td>\n",
              "      <td>14</td>\n",
              "      <td>0</td>\n",
              "    </tr>\n",
              "    <tr>\n",
              "      <th>448</th>\n",
              "      <td>5</td>\n",
              "      <td>6</td>\n",
              "      <td>2</td>\n",
              "      <td>3</td>\n",
              "      <td>7</td>\n",
              "      <td>0</td>\n",
              "      <td>4</td>\n",
              "      <td>2</td>\n",
              "      <td>12</td>\n",
              "      <td>12</td>\n",
              "      <td>0</td>\n",
              "    </tr>\n",
              "  </tbody>\n",
              "</table>\n",
              "<p>449 rows × 11 columns</p>\n",
              "</div>\n",
              "      <button class=\"colab-df-convert\" onclick=\"convertToInteractive('df-ba90219f-b988-42fe-8ca4-eabaa0f4ddc3')\"\n",
              "              title=\"Convert this dataframe to an interactive table.\"\n",
              "              style=\"display:none;\">\n",
              "        \n",
              "  <svg xmlns=\"http://www.w3.org/2000/svg\" height=\"24px\"viewBox=\"0 0 24 24\"\n",
              "       width=\"24px\">\n",
              "    <path d=\"M0 0h24v24H0V0z\" fill=\"none\"/>\n",
              "    <path d=\"M18.56 5.44l.94 2.06.94-2.06 2.06-.94-2.06-.94-.94-2.06-.94 2.06-2.06.94zm-11 1L8.5 8.5l.94-2.06 2.06-.94-2.06-.94L8.5 2.5l-.94 2.06-2.06.94zm10 10l.94 2.06.94-2.06 2.06-.94-2.06-.94-.94-2.06-.94 2.06-2.06.94z\"/><path d=\"M17.41 7.96l-1.37-1.37c-.4-.4-.92-.59-1.43-.59-.52 0-1.04.2-1.43.59L10.3 9.45l-7.72 7.72c-.78.78-.78 2.05 0 2.83L4 21.41c.39.39.9.59 1.41.59.51 0 1.02-.2 1.41-.59l7.78-7.78 2.81-2.81c.8-.78.8-2.07 0-2.86zM5.41 20L4 18.59l7.72-7.72 1.47 1.35L5.41 20z\"/>\n",
              "  </svg>\n",
              "      </button>\n",
              "      \n",
              "  <style>\n",
              "    .colab-df-container {\n",
              "      display:flex;\n",
              "      flex-wrap:wrap;\n",
              "      gap: 12px;\n",
              "    }\n",
              "\n",
              "    .colab-df-convert {\n",
              "      background-color: #E8F0FE;\n",
              "      border: none;\n",
              "      border-radius: 50%;\n",
              "      cursor: pointer;\n",
              "      display: none;\n",
              "      fill: #1967D2;\n",
              "      height: 32px;\n",
              "      padding: 0 0 0 0;\n",
              "      width: 32px;\n",
              "    }\n",
              "\n",
              "    .colab-df-convert:hover {\n",
              "      background-color: #E2EBFA;\n",
              "      box-shadow: 0px 1px 2px rgba(60, 64, 67, 0.3), 0px 1px 3px 1px rgba(60, 64, 67, 0.15);\n",
              "      fill: #174EA6;\n",
              "    }\n",
              "\n",
              "    [theme=dark] .colab-df-convert {\n",
              "      background-color: #3B4455;\n",
              "      fill: #D2E3FC;\n",
              "    }\n",
              "\n",
              "    [theme=dark] .colab-df-convert:hover {\n",
              "      background-color: #434B5C;\n",
              "      box-shadow: 0px 1px 3px 1px rgba(0, 0, 0, 0.15);\n",
              "      filter: drop-shadow(0px 1px 2px rgba(0, 0, 0, 0.3));\n",
              "      fill: #FFFFFF;\n",
              "    }\n",
              "  </style>\n",
              "\n",
              "      <script>\n",
              "        const buttonEl =\n",
              "          document.querySelector('#df-ba90219f-b988-42fe-8ca4-eabaa0f4ddc3 button.colab-df-convert');\n",
              "        buttonEl.style.display =\n",
              "          google.colab.kernel.accessAllowed ? 'block' : 'none';\n",
              "\n",
              "        async function convertToInteractive(key) {\n",
              "          const element = document.querySelector('#df-ba90219f-b988-42fe-8ca4-eabaa0f4ddc3');\n",
              "          const dataTable =\n",
              "            await google.colab.kernel.invokeFunction('convertToInteractive',\n",
              "                                                     [key], {});\n",
              "          if (!dataTable) return;\n",
              "\n",
              "          const docLinkHtml = 'Like what you see? Visit the ' +\n",
              "            '<a target=\"_blank\" href=https://colab.research.google.com/notebooks/data_table.ipynb>data table notebook</a>'\n",
              "            + ' to learn more about interactive tables.';\n",
              "          element.innerHTML = '';\n",
              "          dataTable['output_type'] = 'display_data';\n",
              "          await google.colab.output.renderOutput(dataTable, element);\n",
              "          const docLink = document.createElement('div');\n",
              "          docLink.innerHTML = docLinkHtml;\n",
              "          element.appendChild(docLink);\n",
              "        }\n",
              "      </script>\n",
              "    </div>\n",
              "  </div>\n",
              "  "
            ]
          },
          "metadata": {},
          "execution_count": 62
        }
      ]
    },
    {
      "cell_type": "markdown",
      "source": [
        "De esta forma repetimos el ejercicio anteriormente realizado, con el fin de evaluar la relevancia de eliminar columnas, por lo que inicialmente seleccionamos los datos de entrada y salida."
      ],
      "metadata": {
        "id": "FkY2eo7PpZ6D"
      }
    },
    {
      "cell_type": "code",
      "source": [
        "data2\n",
        "Xf = data2.iloc[:,:9]\n",
        "yf = y = Pre_out\n",
        "m,n = Xf.shape\n",
        "m,n"
      ],
      "metadata": {
        "colab": {
          "base_uri": "https://localhost:8080/"
        },
        "id": "1F7DtmL3ENc-",
        "outputId": "91ae2679-e7a2-4782-a98a-79e384bb25e7"
      },
      "execution_count": 91,
      "outputs": [
        {
          "output_type": "execute_result",
          "data": {
            "text/plain": [
              "(449, 9)"
            ]
          },
          "metadata": {},
          "execution_count": 91
        }
      ]
    },
    {
      "cell_type": "code",
      "source": [
        "X_train, X_test, y_train, y_test = train_test_split(\n",
        "                                       Xf,\n",
        "                                       yf,\n",
        "                                        train_size   = 0.7,\n",
        "                                        random_state = 1234,\n",
        "                                        shuffle      = True)\n",
        "X_train.shape, X_test.shape, y_train.shape, y_test.shape\n",
        "Xf,yf #La clase 01 se refiere a ECG 'normal'. Las clases 02 a 15 se refieren a diferentes clases. \n",
        "#de arritmia y la clase 16 se refiere al resto de las no clasificadas. Por el momento, existe un programa informático que realiza dicha clasificación.\n"
      ],
      "metadata": {
        "colab": {
          "base_uri": "https://localhost:8080/"
        },
        "id": "R__LJZYSKExX",
        "outputId": "3b6ef522-b4ae-41c4-bfe9-a9ed5c642d97"
      },
      "execution_count": 92,
      "outputs": [
        {
          "output_type": "execute_result",
          "data": {
            "text/plain": [
              "(     alturas_cm  pesos_kg  Num_de_deflex   T   P  Onda_Q  Onda_R  Onda_S  P_R\n",
              " 0             8         7              3   6  12       0       5       4   19\n",
              " 1             6         5              2   4   3       0       4       0   17\n",
              " 2             6         8              2   7  10       0       4       8   16\n",
              " 3             7         8              4   7  14       0       7       2   20\n",
              " 4             6         4              2   6   9       0       3       4   16\n",
              " ..          ...       ...            ...  ..  ..     ...     ...     ...  ...\n",
              " 444           5         6              2   4  11       0       5       2   19\n",
              " 445           8         7              2   9   7       0       4       3   13\n",
              " 446           6         5              4   8  11       1       4       4   17\n",
              " 447           5         4              3  11   6       0       5       0   10\n",
              " 448           5         6              2   3   7       0       4       2   12\n",
              " \n",
              " [449 rows x 9 columns], 0      1\n",
              " 1      1\n",
              " 2      1\n",
              " 3      0\n",
              " 4      1\n",
              "       ..\n",
              " 444    0\n",
              " 445    1\n",
              " 446    1\n",
              " 447    0\n",
              " 448    0\n",
              " Name: Salida, Length: 449, dtype: int64)"
            ]
          },
          "metadata": {},
          "execution_count": 92
        }
      ]
    },
    {
      "cell_type": "markdown",
      "source": [
        "##Vecino mas cercano"
      ],
      "metadata": {
        "id": "jzmtJDnZG1Z-"
      }
    },
    {
      "cell_type": "code",
      "source": [
        "from scipy.linalg.decomp_svd import zeros\n",
        "k_min, err_min = np.inf,np.inf\n",
        "i = 100\n",
        "ks, errores = np.zeros(i-1),np.zeros(i-1) # Declaramos los arreglos en donde se van a guardar los valores de k y el error\n",
        "for k in range(1,i,1):\n",
        "  model = KNeighborsRegressor(n_neighbors=k)\n",
        "  model.fit(X_train, y_train)\n",
        "  y_pred = model.predict(X_test)\n",
        "  error = mean_squared_error(y_test, y_pred)\n",
        "  ks[k-1] = k # Guardamos los valores de en un arreglo\n",
        "  errores[k-1] = error # Guardamos los valores de error de cada k en un arreglo\n",
        "  # Evaluamos el error minimo y guardamos el valor de k de dicho valor\n",
        "  if error<err_min:\n",
        "    err_min = error\n",
        "    kf = k\n",
        "    rmse_vecinos = mean_squared_error(y_test, y_pred)\n",
        "rmse_Bayes = rmse_vecinos\n",
        "print('El minimo error encontrado es',rmse_vecinos,', cuyo valor de k es',kf)\n",
        "\n"
      ],
      "metadata": {
        "colab": {
          "base_uri": "https://localhost:8080/"
        },
        "id": "0X84tDQLAALf",
        "outputId": "493aeca2-3486-42b2-c03e-bd8ac8d677cc"
      },
      "execution_count": 93,
      "outputs": [
        {
          "output_type": "stream",
          "name": "stdout",
          "text": [
            "El minimo error encontrado es 0.233544921875 , cuyo valor de k es 64\n"
          ]
        }
      ]
    },
    {
      "cell_type": "markdown",
      "source": [
        "##Bayes"
      ],
      "metadata": {
        "id": "bud_CPfeG9y-"
      }
    },
    {
      "cell_type": "code",
      "source": [
        "from sklearn.naive_bayes import CategoricalNB\n",
        "clf = CategoricalNB()\n",
        "clf.fit(X_train, y_train)\n",
        "rmse_Baye = mean_squared_error(y_test, y_pred)\n",
        "pres = accuracy_score(y_train, clf.predict(X_train))\n",
        "print('El error en la predicción corresponde a:',rmse_Baye,',con una precisión de:',pres)"
      ],
      "metadata": {
        "colab": {
          "base_uri": "https://localhost:8080/"
        },
        "id": "MP1fmLcSG_rS",
        "outputId": "1818f040-9b72-4a19-d7b6-370da3ed1ff5"
      },
      "execution_count": 94,
      "outputs": [
        {
          "output_type": "stream",
          "name": "stdout",
          "text": [
            "El error en la predicción corresponde a: 0.23777619063814348 ,con una precisión de: 0.7707006369426752\n"
          ]
        }
      ]
    },
    {
      "cell_type": "markdown",
      "source": [
        "##Regresión logistica"
      ],
      "metadata": {
        "id": "ANt_rRuwztZs"
      }
    },
    {
      "cell_type": "code",
      "source": [
        "modelo = LogisticRegression()\n",
        "modelo.fit(X = X_train, y = y_train)\n",
        "presRL = accuracy_score(y_train, modelo.predict(X_train))\n",
        "rmse_RL = mean_squared_error(y_test, y_pred)\n",
        "print('El error en la predicción corresponde a:',rmse_RL,',con una precisión de:',presRL)"
      ],
      "metadata": {
        "colab": {
          "base_uri": "https://localhost:8080/"
        },
        "id": "h8YmSyFzzwMU",
        "outputId": "aa6ac075-f0a3-44da-944c-4d672e7921d8"
      },
      "execution_count": 95,
      "outputs": [
        {
          "output_type": "stream",
          "name": "stdout",
          "text": [
            "El error en la predicción corresponde a: 0.23777619063814348 ,con una precisión de: 0.6496815286624203\n"
          ]
        }
      ]
    },
    {
      "cell_type": "markdown",
      "source": [
        "#Conclusion\n",
        "El mejor metodo de clasificación encontrado fue el de vecinos cercanos, cuyo error de prediccón fue del 22.27%; respecto a la clasificación post eliminación de columnas se encontro que para el metodo de Bayes y Regresión Logistica el error en la predicción disminuyo, mientras que para el metodo de Vecinos Cercanos aumento."
      ],
      "metadata": {
        "id": "98LN2slJ16sl"
      }
    },
    {
      "cell_type": "code",
      "source": [
        "#Conclusión\n",
        "print('Vecinos cercanos')\n",
        "print('Los errores encontrados con y sin discriminación de columnas es:',rmse_vecinos,'y',rmse_vecinosn,'respectivamente')\n",
        "print('Regresión logistica')\n",
        "print('Los errores encontrados con y sin discriminación de columnas es:',rmse_RL,'y',rmse_RLn,'respectivamente')"
      ],
      "metadata": {
        "colab": {
          "base_uri": "https://localhost:8080/"
        },
        "id": "wT9yPDP00SqG",
        "outputId": "be112395-19ab-446e-ebee-d28380966e1d"
      },
      "execution_count": 102,
      "outputs": [
        {
          "output_type": "stream",
          "name": "stdout",
          "text": [
            "Vecinos cercanos\n",
            "Los errores encontrados con y sin discriminación de columnas es: 0.233544921875 y 0.22275555555555554 respectivamente\n",
            "Regresión logistica\n",
            "Los errores encontrados con y sin discriminación de columnas es: 0.23777619063814348 y 0.24461514720447575 respectivamente\n"
          ]
        }
      ]
    }
  ]
}